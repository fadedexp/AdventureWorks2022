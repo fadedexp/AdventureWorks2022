{
 "cells": [
  {
   "cell_type": "code",
   "execution_count": 67,
   "metadata": {},
   "outputs": [],
   "source": [
    "from sklearn.linear_model import (\n",
    "    LinearRegression,\n",
    "    Ridge,\n",
    "    Lasso,\n",
    "    Huber,\n",
    "    TheilSenRegressor,\n",
    "    RANSACRegressor\n",
    ")\n",
    "from sklearn.model_selection import (\n",
    "    train_test_split,\n",
    "    cross_val_score,\n",
    "    KFold\n",
    ")\n",
    "from sklearn.metrics import (\n",
    "    mean_absolute_error as MAE,\n",
    "    root_mean_squared_error as RMSE,\n",
    "    mean_squared_error as MSE,\n",
    "    median_absolute_error as MdAE,\n",
    "    r2_score as R2\n",
    ")\n",
    "from sklearn.pipeline import Pipeline \n",
    "from sklearn.preprocessing import LabelEncoder, OneHotEncoder\n",
    "\n",
    "import pandas as pd\n",
    "import numpy as np"
   ]
  },
  {
   "cell_type": "code",
   "execution_count": 77,
   "metadata": {},
   "outputs": [
    {
     "data": {
      "text/html": [
       "<div>\n",
       "<style scoped>\n",
       "    .dataframe tbody tr th:only-of-type {\n",
       "        vertical-align: middle;\n",
       "    }\n",
       "\n",
       "    .dataframe tbody tr th {\n",
       "        vertical-align: top;\n",
       "    }\n",
       "\n",
       "    .dataframe thead th {\n",
       "        text-align: right;\n",
       "    }\n",
       "</style>\n",
       "<table border=\"1\" class=\"dataframe\">\n",
       "  <thead>\n",
       "    <tr style=\"text-align: right;\">\n",
       "      <th></th>\n",
       "      <th>ID</th>\n",
       "      <th>TerritoryName</th>\n",
       "      <th>TerritoryGroup</th>\n",
       "      <th>CountryRegionCode</th>\n",
       "      <th>ShipMethodName</th>\n",
       "      <th>TotalUnits</th>\n",
       "      <th>Avg_StdCost</th>\n",
       "      <th>TotalDue</th>\n",
       "    </tr>\n",
       "  </thead>\n",
       "  <tbody>\n",
       "    <tr>\n",
       "      <th>0</th>\n",
       "      <td>43659</td>\n",
       "      <td>Southeast</td>\n",
       "      <td>North America</td>\n",
       "      <td>US</td>\n",
       "      <td>CARGO TRANSPORT 5</td>\n",
       "      <td>26</td>\n",
       "      <td>1120.2741</td>\n",
       "      <td>23153.2339</td>\n",
       "    </tr>\n",
       "    <tr>\n",
       "      <th>1</th>\n",
       "      <td>43660</td>\n",
       "      <td>Southeast</td>\n",
       "      <td>North America</td>\n",
       "      <td>US</td>\n",
       "      <td>CARGO TRANSPORT 5</td>\n",
       "      <td>2</td>\n",
       "      <td>685.7074</td>\n",
       "      <td>1457.3288</td>\n",
       "    </tr>\n",
       "    <tr>\n",
       "      <th>2</th>\n",
       "      <td>43661</td>\n",
       "      <td>Canada</td>\n",
       "      <td>North America</td>\n",
       "      <td>CA</td>\n",
       "      <td>CARGO TRANSPORT 5</td>\n",
       "      <td>38</td>\n",
       "      <td>883.0531</td>\n",
       "      <td>36865.8012</td>\n",
       "    </tr>\n",
       "    <tr>\n",
       "      <th>3</th>\n",
       "      <td>43662</td>\n",
       "      <td>Canada</td>\n",
       "      <td>North America</td>\n",
       "      <td>CA</td>\n",
       "      <td>CARGO TRANSPORT 5</td>\n",
       "      <td>54</td>\n",
       "      <td>619.8741</td>\n",
       "      <td>32474.9324</td>\n",
       "    </tr>\n",
       "    <tr>\n",
       "      <th>4</th>\n",
       "      <td>43663</td>\n",
       "      <td>Southwest</td>\n",
       "      <td>North America</td>\n",
       "      <td>US</td>\n",
       "      <td>CARGO TRANSPORT 5</td>\n",
       "      <td>1</td>\n",
       "      <td>486.7066</td>\n",
       "      <td>472.3108</td>\n",
       "    </tr>\n",
       "    <tr>\n",
       "      <th>...</th>\n",
       "      <td>...</td>\n",
       "      <td>...</td>\n",
       "      <td>...</td>\n",
       "      <td>...</td>\n",
       "      <td>...</td>\n",
       "      <td>...</td>\n",
       "      <td>...</td>\n",
       "      <td>...</td>\n",
       "    </tr>\n",
       "    <tr>\n",
       "      <th>31460</th>\n",
       "      <td>75119</td>\n",
       "      <td>Northwest</td>\n",
       "      <td>North America</td>\n",
       "      <td>US</td>\n",
       "      <td>XRQ - TRUCK GROUND</td>\n",
       "      <td>3</td>\n",
       "      <td>5.2709</td>\n",
       "      <td>46.7194</td>\n",
       "    </tr>\n",
       "    <tr>\n",
       "      <th>31461</th>\n",
       "      <td>75120</td>\n",
       "      <td>Canada</td>\n",
       "      <td>North America</td>\n",
       "      <td>CA</td>\n",
       "      <td>XRQ - TRUCK GROUND</td>\n",
       "      <td>3</td>\n",
       "      <td>18.9050</td>\n",
       "      <td>93.8808</td>\n",
       "    </tr>\n",
       "    <tr>\n",
       "      <th>31462</th>\n",
       "      <td>75121</td>\n",
       "      <td>Canada</td>\n",
       "      <td>North America</td>\n",
       "      <td>CA</td>\n",
       "      <td>XRQ - TRUCK GROUND</td>\n",
       "      <td>3</td>\n",
       "      <td>9.3475</td>\n",
       "      <td>82.8529</td>\n",
       "    </tr>\n",
       "    <tr>\n",
       "      <th>31463</th>\n",
       "      <td>75122</td>\n",
       "      <td>Canada</td>\n",
       "      <td>North America</td>\n",
       "      <td>CA</td>\n",
       "      <td>XRQ - TRUCK GROUND</td>\n",
       "      <td>2</td>\n",
       "      <td>7.5714</td>\n",
       "      <td>34.2219</td>\n",
       "    </tr>\n",
       "    <tr>\n",
       "      <th>31464</th>\n",
       "      <td>75123</td>\n",
       "      <td>Canada</td>\n",
       "      <td>North America</td>\n",
       "      <td>CA</td>\n",
       "      <td>XRQ - TRUCK GROUND</td>\n",
       "      <td>3</td>\n",
       "      <td>24.8696</td>\n",
       "      <td>209.9169</td>\n",
       "    </tr>\n",
       "  </tbody>\n",
       "</table>\n",
       "<p>31465 rows × 8 columns</p>\n",
       "</div>"
      ],
      "text/plain": [
       "          ID TerritoryName TerritoryGroup CountryRegionCode  \\\n",
       "0      43659     Southeast  North America                US   \n",
       "1      43660     Southeast  North America                US   \n",
       "2      43661        Canada  North America                CA   \n",
       "3      43662        Canada  North America                CA   \n",
       "4      43663     Southwest  North America                US   \n",
       "...      ...           ...            ...               ...   \n",
       "31460  75119     Northwest  North America                US   \n",
       "31461  75120        Canada  North America                CA   \n",
       "31462  75121        Canada  North America                CA   \n",
       "31463  75122        Canada  North America                CA   \n",
       "31464  75123        Canada  North America                CA   \n",
       "\n",
       "           ShipMethodName  TotalUnits  Avg_StdCost    TotalDue  \n",
       "0       CARGO TRANSPORT 5          26    1120.2741  23153.2339  \n",
       "1       CARGO TRANSPORT 5           2     685.7074   1457.3288  \n",
       "2       CARGO TRANSPORT 5          38     883.0531  36865.8012  \n",
       "3       CARGO TRANSPORT 5          54     619.8741  32474.9324  \n",
       "4       CARGO TRANSPORT 5           1     486.7066    472.3108  \n",
       "...                   ...         ...          ...         ...  \n",
       "31460  XRQ - TRUCK GROUND           3       5.2709     46.7194  \n",
       "31461  XRQ - TRUCK GROUND           3      18.9050     93.8808  \n",
       "31462  XRQ - TRUCK GROUND           3       9.3475     82.8529  \n",
       "31463  XRQ - TRUCK GROUND           2       7.5714     34.2219  \n",
       "31464  XRQ - TRUCK GROUND           3      24.8696    209.9169  \n",
       "\n",
       "[31465 rows x 8 columns]"
      ]
     },
     "execution_count": 77,
     "metadata": {},
     "output_type": "execute_result"
    }
   ],
   "source": [
    "df = pd.read_csv(\"data_for_model.csv\", delimiter=';', header=None)\n",
    "df.columns = ['ID', 'TerritoryName', 'TerritoryGroup', 'CountryRegionCode', 'ShipMethodName', 'TotalUnits', 'Avg_StdCost', 'TotalDue']\n",
    "df\n"
   ]
  },
  {
   "cell_type": "code",
   "execution_count": 78,
   "metadata": {},
   "outputs": [],
   "source": [
    "df = pd.get_dummies(df, columns = ['TerritoryName', 'TerritoryGroup', 'CountryRegionCode', 'ShipMethodName'])"
   ]
  },
  {
   "cell_type": "code",
   "execution_count": 108,
   "metadata": {},
   "outputs": [],
   "source": [
    "X = df.drop(columns=['ID', 'TotalDue'])\n",
    "y = df['TotalDue']"
   ]
  },
  {
   "cell_type": "code",
   "execution_count": 81,
   "metadata": {},
   "outputs": [],
   "source": [
    "X_train, X_test, y_train, y_test = train_test_split(X, y, random_state=42, test_size=0.3)"
   ]
  },
  {
   "cell_type": "code",
   "execution_count": 90,
   "metadata": {},
   "outputs": [
    {
     "data": {
      "text/plain": [
       "3915.9951093564277"
      ]
     },
     "execution_count": 90,
     "metadata": {},
     "output_type": "execute_result"
    }
   ],
   "source": [
    "df['TotalDue'].mean()"
   ]
  },
  {
   "cell_type": "code",
   "execution_count": 106,
   "metadata": {},
   "outputs": [],
   "source": [
    "avg_model = pd.Series([df['TotalDue'].mean()] * y_test.shape[0])"
   ]
  },
  {
   "cell_type": "code",
   "execution_count": 83,
   "metadata": {},
   "outputs": [
    {
     "data": {
      "text/plain": [
       "(1895.8360173231658, 5830.022432119296)"
      ]
     },
     "execution_count": 83,
     "metadata": {},
     "output_type": "execute_result"
    }
   ],
   "source": [
    "linear = LinearRegression()\n",
    "\n",
    "linear.fit(X_train, y_train)\n",
    "y_pred = linear.predict(X_test)\n",
    "MAE(y_test, y_pred), RMSE(y_test, y_pred)"
   ]
  },
  {
   "cell_type": "code",
   "execution_count": 105,
   "metadata": {},
   "outputs": [
    {
     "data": {
      "text/plain": [
       "(1895.7817785816728, 5830.055481408535)"
      ]
     },
     "execution_count": 105,
     "metadata": {},
     "output_type": "execute_result"
    }
   ],
   "source": [
    "ridge = Ridge()\n",
    "\n",
    "ridge.fit(X_train, y_train)\n",
    "y_predr = ridge.predict(X_test)\n",
    "MAE(y_test, y_predr), RMSE(y_test, y_predr)"
   ]
  },
  {
   "cell_type": "code",
   "execution_count": 107,
   "metadata": {},
   "outputs": [
    {
     "data": {
      "text/plain": [
       "(5143.881506914797, 12788.722253855825)"
      ]
     },
     "execution_count": 107,
     "metadata": {},
     "output_type": "execute_result"
    }
   ],
   "source": [
    "MAE(y_test, avg_model), RMSE(y_test, avg_model)"
   ]
  }
 ],
 "metadata": {
  "kernelspec": {
   "display_name": "Python 3",
   "language": "python",
   "name": "python3"
  },
  "language_info": {
   "codemirror_mode": {
    "name": "ipython",
    "version": 3
   },
   "file_extension": ".py",
   "mimetype": "text/x-python",
   "name": "python",
   "nbconvert_exporter": "python",
   "pygments_lexer": "ipython3",
   "version": "3.12.2"
  }
 },
 "nbformat": 4,
 "nbformat_minor": 2
}
